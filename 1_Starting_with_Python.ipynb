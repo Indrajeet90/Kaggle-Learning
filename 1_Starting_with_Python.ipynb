{
  "nbformat": 4,
  "nbformat_minor": 0,
  "metadata": {
    "colab": {
      "name": "1. Starting with Python.ipynb",
      "provenance": [],
      "authorship_tag": "ABX9TyPzK5dfnWzqUrJSHLeK4zZv",
      "include_colab_link": true
    },
    "kernelspec": {
      "name": "python3",
      "display_name": "Python 3"
    },
    "accelerator": "GPU"
  },
  "cells": [
    {
      "cell_type": "markdown",
      "metadata": {
        "id": "view-in-github",
        "colab_type": "text"
      },
      "source": [
        "<a href=\"https://colab.research.google.com/github/Indrajeet90/Kaggle-Learning/blob/master/1_Starting_with_Python.ipynb\" target=\"_parent\"><img src=\"https://colab.research.google.com/assets/colab-badge.svg\" alt=\"Open In Colab\"/></a>"
      ]
    },
    {
      "cell_type": "markdown",
      "metadata": {
        "id": "aY4ISzrM5ZRe",
        "colab_type": "text"
      },
      "source": [
        "**Hello, Python!**"
      ]
    },
    {
      "cell_type": "markdown",
      "metadata": {
        "id": "m8HwNeMW6B5_",
        "colab_type": "text"
      },
      "source": [
        "**Variable assignment:** Here we create a variable called `spam_amount` and assign it the value of 0 using =, which is called the assignment operator."
      ]
    },
    {
      "cell_type": "code",
      "metadata": {
        "id": "uQfz4iiN5FYa",
        "colab_type": "code",
        "colab": {
          "base_uri": "https://localhost:8080/",
          "height": 34
        },
        "outputId": "da55a519-c719-4bcc-dbbe-87365e800c92"
      },
      "source": [
        "spam_amount = 0\n",
        "print(spam_amount)"
      ],
      "execution_count": 2,
      "outputs": [
        {
          "output_type": "stream",
          "text": [
            "0\n"
          ],
          "name": "stdout"
        }
      ]
    },
    {
      "cell_type": "markdown",
      "metadata": {
        "id": "JnHaB7PB6Vdr",
        "colab_type": "text"
      },
      "source": [
        "**Function calls:**. `print` is a Python function that displays the value passed to it on the screen. We call functions by putting parentheses after their name, and putting the inputs (or arguments) to the function in those parentheses."
      ]
    },
    {
      "cell_type": "code",
      "metadata": {
        "id": "DXavDALP5uW7",
        "colab_type": "code",
        "colab": {}
      },
      "source": [
        "# Ordering Spam, egg, Spam, Spam, bacon and Spam (4 more servings of Spam)\n",
        "spam_amount = spam_amount + 4"
      ],
      "execution_count": 0,
      "outputs": []
    },
    {
      "cell_type": "code",
      "metadata": {
        "id": "WBsXSd6qcIEe",
        "colab_type": "code",
        "colab": {
          "base_uri": "https://localhost:8080/",
          "height": 34
        },
        "outputId": "4ed2c7aa-f8aa-4979-addf-dd270cce358c"
      },
      "source": [
        "print(spam_amount)"
      ],
      "execution_count": 4,
      "outputs": [
        {
          "output_type": "stream",
          "text": [
            "4\n"
          ],
          "name": "stdout"
        }
      ]
    },
    {
      "cell_type": "code",
      "metadata": {
        "id": "6JjPOVV95yw-",
        "colab_type": "code",
        "colab": {
          "base_uri": "https://localhost:8080/",
          "height": 34
        },
        "outputId": "95dcc523-6776-4640-88c7-1fb8408d856e"
      },
      "source": [
        "if spam_amount > 0:\n",
        "    print(\"But I don't want ANY spam!\")"
      ],
      "execution_count": 5,
      "outputs": [
        {
          "output_type": "stream",
          "text": [
            "But I don't want ANY spam!\n"
          ],
          "name": "stdout"
        }
      ]
    },
    {
      "cell_type": "code",
      "metadata": {
        "id": "yVSaiI0_60P9",
        "colab_type": "code",
        "colab": {
          "base_uri": "https://localhost:8080/",
          "height": 34
        },
        "outputId": "e07472fb-d038-4f25-8413-eaf3077b0b9b"
      },
      "source": [
        "print(spam_amount)"
      ],
      "execution_count": 6,
      "outputs": [
        {
          "output_type": "stream",
          "text": [
            "4\n"
          ],
          "name": "stdout"
        }
      ]
    },
    {
      "cell_type": "code",
      "metadata": {
        "id": "1HaaAKne52T8",
        "colab_type": "code",
        "colab": {
          "base_uri": "https://localhost:8080/",
          "height": 34
        },
        "outputId": "75c1927b-17c4-4ce2-ed4a-3a3037057f48"
      },
      "source": [
        "viking_song = \"Spam \" * spam_amount\n",
        "print(viking_song)"
      ],
      "execution_count": 7,
      "outputs": [
        {
          "output_type": "stream",
          "text": [
            "Spam Spam Spam Spam \n"
          ],
          "name": "stdout"
        }
      ]
    },
    {
      "cell_type": "markdown",
      "metadata": {
        "id": "d4PrZ89M7EEC",
        "colab_type": "text"
      },
      "source": [
        "**Numbers and arithmetic in Python**"
      ]
    },
    {
      "cell_type": "code",
      "metadata": {
        "id": "Rf7rrds2688a",
        "colab_type": "code",
        "colab": {}
      },
      "source": [
        "spam_amount = 0"
      ],
      "execution_count": 0,
      "outputs": []
    },
    {
      "cell_type": "code",
      "metadata": {
        "id": "BLFS74Wn7MKm",
        "colab_type": "code",
        "colab": {
          "base_uri": "https://localhost:8080/",
          "height": 34
        },
        "outputId": "72812c54-6faf-4ea7-ae25-6af6d442ea73"
      },
      "source": [
        "type(spam_amount)"
      ],
      "execution_count": 9,
      "outputs": [
        {
          "output_type": "execute_result",
          "data": {
            "text/plain": [
              "int"
            ]
          },
          "metadata": {
            "tags": []
          },
          "execution_count": 9
        }
      ]
    },
    {
      "cell_type": "code",
      "metadata": {
        "id": "99JJGPV-7XJd",
        "colab_type": "code",
        "colab": {
          "base_uri": "https://localhost:8080/",
          "height": 34
        },
        "outputId": "0423a6e8-8d4b-463b-ae60-caabb4bad8cc"
      },
      "source": [
        "type(19.95)"
      ],
      "execution_count": 9,
      "outputs": [
        {
          "output_type": "execute_result",
          "data": {
            "text/plain": [
              "float"
            ]
          },
          "metadata": {
            "tags": []
          },
          "execution_count": 9
        }
      ]
    },
    {
      "cell_type": "code",
      "metadata": {
        "id": "d-595iY67kTn",
        "colab_type": "code",
        "colab": {
          "base_uri": "https://localhost:8080/",
          "height": 51
        },
        "outputId": "87346199-a576-4d5d-84a8-d918531644ed"
      },
      "source": [
        "print(5 / 2)\n",
        "print(6 / 2)"
      ],
      "execution_count": 10,
      "outputs": [
        {
          "output_type": "stream",
          "text": [
            "2.5\n",
            "3.0\n"
          ],
          "name": "stdout"
        }
      ]
    },
    {
      "cell_type": "markdown",
      "metadata": {
        "id": "1neOloTS7pmL",
        "colab_type": "text"
      },
      "source": [
        "The // operator gives us a result that's rounded down to the next integer."
      ]
    },
    {
      "cell_type": "code",
      "metadata": {
        "id": "nrtW3JXp7qg_",
        "colab_type": "code",
        "colab": {
          "base_uri": "https://localhost:8080/",
          "height": 51
        },
        "outputId": "f8477cb9-ab46-41b7-bb21-ea331f390a76"
      },
      "source": [
        "print(5 // 2)\n",
        "print(6 // 2)"
      ],
      "execution_count": 11,
      "outputs": [
        {
          "output_type": "stream",
          "text": [
            "2\n",
            "3\n"
          ],
          "name": "stdout"
        }
      ]
    },
    {
      "cell_type": "markdown",
      "metadata": {
        "id": "1Z5aqokJ7wzP",
        "colab_type": "text"
      },
      "source": [
        "**Order of operations**\n",
        "\n",
        "The arithmetic we learned in primary school has conventions about the order in which operations are evaluated. Some remember these by a mnemonic such as **PEMDAS** - *Parentheses, Exponents, Multiplication/Division, Addition/Subtraction.*"
      ]
    },
    {
      "cell_type": "code",
      "metadata": {
        "id": "X6O6qXQt70JL",
        "colab_type": "code",
        "colab": {
          "base_uri": "https://localhost:8080/",
          "height": 34
        },
        "outputId": "252a4955-d1ce-44a5-b75a-c4a4e36d57ef"
      },
      "source": [
        "8 - 3 + 2"
      ],
      "execution_count": 12,
      "outputs": [
        {
          "output_type": "execute_result",
          "data": {
            "text/plain": [
              "7"
            ]
          },
          "metadata": {
            "tags": []
          },
          "execution_count": 12
        }
      ]
    },
    {
      "cell_type": "code",
      "metadata": {
        "id": "xN7J6Bq48Hwk",
        "colab_type": "code",
        "colab": {
          "base_uri": "https://localhost:8080/",
          "height": 34
        },
        "outputId": "fb26cd3f-c740-431b-f296-df969e94bcb0"
      },
      "source": [
        "-3 + 4 * 2"
      ],
      "execution_count": 13,
      "outputs": [
        {
          "output_type": "execute_result",
          "data": {
            "text/plain": [
              "5"
            ]
          },
          "metadata": {
            "tags": []
          },
          "execution_count": 13
        }
      ]
    },
    {
      "cell_type": "markdown",
      "metadata": {
        "id": "P2_TKEs_8Kj6",
        "colab_type": "text"
      },
      "source": [
        "Sometimes the default order of operations isn't what we want:"
      ]
    },
    {
      "cell_type": "code",
      "metadata": {
        "id": "qs1Tq7O28LSw",
        "colab_type": "code",
        "colab": {
          "base_uri": "https://localhost:8080/",
          "height": 34
        },
        "outputId": "211e5e24-1df9-4c8f-a619-9c45f2096a2d"
      },
      "source": [
        "hat_height_cm = 25\n",
        "my_height_cm = 190\n",
        "# How tall am I, in meters, when wearing my hat?\n",
        "total_height_meters = hat_height_cm + my_height_cm / 100\n",
        "print(\"Height in meters =\", total_height_meters, \"?\")"
      ],
      "execution_count": 14,
      "outputs": [
        {
          "output_type": "stream",
          "text": [
            "Height in meters = 26.9 ?\n"
          ],
          "name": "stdout"
        }
      ]
    },
    {
      "cell_type": "markdown",
      "metadata": {
        "id": "937qCW418UK-",
        "colab_type": "text"
      },
      "source": [
        "Parentheses are your useful here. You can add them to force Python to evaluate sub-expressions in whatever order you want."
      ]
    },
    {
      "cell_type": "code",
      "metadata": {
        "id": "cLsdogBZ8Vif",
        "colab_type": "code",
        "colab": {
          "base_uri": "https://localhost:8080/",
          "height": 34
        },
        "outputId": "c6cb2609-929b-4388-eb22-7bae7d3e8963"
      },
      "source": [
        "total_height_meters = (hat_height_cm + my_height_cm) / 100\n",
        "print(\"Height in meters =\", total_height_meters)"
      ],
      "execution_count": 15,
      "outputs": [
        {
          "output_type": "stream",
          "text": [
            "Height in meters = 2.15\n"
          ],
          "name": "stdout"
        }
      ]
    },
    {
      "cell_type": "markdown",
      "metadata": {
        "id": "8kq6Id1q8cBN",
        "colab_type": "text"
      },
      "source": [
        "**Builtin functions for working with numbers**\n",
        "\n",
        "`min` and `max` return the minimum and maximum of their arguments, respectively..."
      ]
    },
    {
      "cell_type": "code",
      "metadata": {
        "id": "1re_6_f68dpG",
        "colab_type": "code",
        "colab": {
          "base_uri": "https://localhost:8080/",
          "height": 51
        },
        "outputId": "6bc507c4-b7bc-49e9-c3ea-a0ba19fbb78b"
      },
      "source": [
        "print(min(1, 2, 3))\n",
        "print(max(1, 2, 3))"
      ],
      "execution_count": 16,
      "outputs": [
        {
          "output_type": "stream",
          "text": [
            "1\n",
            "3\n"
          ],
          "name": "stdout"
        }
      ]
    },
    {
      "cell_type": "markdown",
      "metadata": {
        "id": "2F3_sK778ul1",
        "colab_type": "text"
      },
      "source": [
        "`abs` returns the absolute value of it argument:"
      ]
    },
    {
      "cell_type": "code",
      "metadata": {
        "id": "vsPhLMP68wAA",
        "colab_type": "code",
        "colab": {
          "base_uri": "https://localhost:8080/",
          "height": 51
        },
        "outputId": "0a83e58a-cc41-4024-d78a-c02736b07d63"
      },
      "source": [
        "print(abs(32))\n",
        "print(abs(-32))"
      ],
      "execution_count": 17,
      "outputs": [
        {
          "output_type": "stream",
          "text": [
            "32\n",
            "32\n"
          ],
          "name": "stdout"
        }
      ]
    },
    {
      "cell_type": "markdown",
      "metadata": {
        "id": "Kkdcw6X-81Of",
        "colab_type": "text"
      },
      "source": [
        "In addition to being the names of Python's two main numerical types, `int` and `float` can also be called as functions which convert their arguments to the corresponding type:"
      ]
    },
    {
      "cell_type": "code",
      "metadata": {
        "id": "oAsbfkkq87gv",
        "colab_type": "code",
        "colab": {
          "base_uri": "https://localhost:8080/",
          "height": 68
        },
        "outputId": "9474c053-328d-4c78-dd0c-a8f52f0cec80"
      },
      "source": [
        "print(float(10))\n",
        "print(int(3.33))\n",
        "# They can even be called on strings!\n",
        "print(int('807') + 1)"
      ],
      "execution_count": 18,
      "outputs": [
        {
          "output_type": "stream",
          "text": [
            "10.0\n",
            "3\n",
            "808\n"
          ],
          "name": "stdout"
        }
      ]
    },
    {
      "cell_type": "markdown",
      "metadata": {
        "id": "kXzFqu9S9FhP",
        "colab_type": "text"
      },
      "source": [
        "# Practice On Python"
      ]
    },
    {
      "cell_type": "code",
      "metadata": {
        "id": "LpJMsce39KF0",
        "colab_type": "code",
        "colab": {
          "base_uri": "https://localhost:8080/",
          "height": 51
        },
        "outputId": "14c8a554-33c2-49e7-9d08-e5fd3fd5eb01"
      },
      "source": [
        "print(\"You've successfully run some Python code\")\n",
        "print(\"Congratulations!\")"
      ],
      "execution_count": 19,
      "outputs": [
        {
          "output_type": "stream",
          "text": [
            "You've successfully run some Python code\n",
            "Congratulations!\n"
          ],
          "name": "stdout"
        }
      ]
    },
    {
      "cell_type": "markdown",
      "metadata": {
        "id": "mL_1cRh-9a_t",
        "colab_type": "text"
      },
      "source": [
        "**0. What is your favorite color?**"
      ]
    },
    {
      "cell_type": "code",
      "metadata": {
        "id": "x-SNL2Ok9dAD",
        "colab_type": "code",
        "colab": {}
      },
      "source": [
        "# create a variable called color with an appropriate value on the line below.\n",
        "color=\"blue\""
      ],
      "execution_count": 0,
      "outputs": []
    },
    {
      "cell_type": "markdown",
      "metadata": {
        "id": "786RprKy99MM",
        "colab_type": "text"
      },
      "source": [
        "**1. Area of a circle**"
      ]
    },
    {
      "cell_type": "code",
      "metadata": {
        "id": "5STifo3597de",
        "colab_type": "code",
        "colab": {}
      },
      "source": [
        "pi = 3.14159 # approximate\n",
        "diameter = 3\n",
        "\n",
        "radius=1.50\n",
        "\n",
        "area= pi*radius**2"
      ],
      "execution_count": 0,
      "outputs": []
    },
    {
      "cell_type": "markdown",
      "metadata": {
        "id": "9bAhrAsa-N_I",
        "colab_type": "text"
      },
      "source": [
        "**2. Swapping variables**\n",
        "\n",
        "The most straightforward solution is to use a third variable to temporarily store one of the old values."
      ]
    },
    {
      "cell_type": "code",
      "metadata": {
        "id": "HUSvEFn0-WGk",
        "colab_type": "code",
        "colab": {}
      },
      "source": [
        "a = [1, 2, 3]\n",
        "b = [3, 2, 1]\n",
        "\n",
        "tmp = a\n",
        "a = b\n",
        "b = tmp"
      ],
      "execution_count": 0,
      "outputs": []
    },
    {
      "cell_type": "markdown",
      "metadata": {
        "id": "yhOIHjRf-nD7",
        "colab_type": "text"
      },
      "source": [
        "**3. Using paranthesis for desired output**"
      ]
    },
    {
      "cell_type": "code",
      "metadata": {
        "id": "D5SRiZfZ-0QG",
        "colab_type": "code",
        "colab": {
          "base_uri": "https://localhost:8080/",
          "height": 34
        },
        "outputId": "9dc1ba95-2add-4a0a-8174-2fb01b32692a"
      },
      "source": [
        "(5 - 3 )// 2  # Output should be 1"
      ],
      "execution_count": 25,
      "outputs": [
        {
          "output_type": "execute_result",
          "data": {
            "text/plain": [
              "1"
            ]
          },
          "metadata": {
            "tags": []
          },
          "execution_count": 25
        }
      ]
    },
    {
      "cell_type": "code",
      "metadata": {
        "id": "WU44hamM-1w_",
        "colab_type": "code",
        "colab": {
          "base_uri": "https://localhost:8080/",
          "height": 34
        },
        "outputId": "6bbe88d1-37ca-4b58-a981-7f898e08b0b1"
      },
      "source": [
        "8 - (3 * 2 )- (1 + 1) # Output should be 0"
      ],
      "execution_count": 26,
      "outputs": [
        {
          "output_type": "execute_result",
          "data": {
            "text/plain": [
              "0"
            ]
          },
          "metadata": {
            "tags": []
          },
          "execution_count": 26
        }
      ]
    },
    {
      "cell_type": "markdown",
      "metadata": {
        "id": "3tC-fsUc_JI9",
        "colab_type": "text"
      },
      "source": [
        "**4.**        Alice, Bob and Carol have agreed to pool their Halloween candy and split it evenly among themselves. For the sake of their friendship, any candies left over will be smashed. For example, if they collectively bring home 91 candies, they'll take 30 each and smash 1.\n",
        "\n",
        "Write an arithmetic expression below to calculate how many candies they must smash for a given haul."
      ]
    },
    {
      "cell_type": "code",
      "metadata": {
        "id": "sPiYdBRQ_LHq",
        "colab_type": "code",
        "colab": {
          "base_uri": "https://localhost:8080/",
          "height": 34
        },
        "outputId": "e40736ac-67af-471c-80dd-199b8ac1bc45"
      },
      "source": [
        "# Variables representing the number of candies collected by alice, bob, and carol\n",
        "alice_candies = 121\n",
        "bob_candies = 77\n",
        "carol_candies = 109\n",
        "# candies they must smash for a given haul\n",
        "(alice_candies + bob_candies + carol_candies) % 3  # "
      ],
      "execution_count": 27,
      "outputs": [
        {
          "output_type": "execute_result",
          "data": {
            "text/plain": [
              "1"
            ]
          },
          "metadata": {
            "tags": []
          },
          "execution_count": 27
        }
      ]
    },
    {
      "cell_type": "markdown",
      "metadata": {
        "id": "hxqJGdOB_0m5",
        "colab_type": "text"
      },
      "source": [
        "<hr/>\n",
        "6. <span title=\"Spicy\" style=\"color: coral\">🌶️🌶️</span>\n",
        "\n",
        "The following is an example of a tricky piece of arithmetic manipulation you might encounter when using Python for visualization.\n",
        "\n",
        "Suppose we're working with the [QuickDraw dataset](https://www.kaggle.com/google/tinyquickdraw) of doodled sketches and we want to visualize several sketches at once in a grid-like arrangement.\n",
        "\n",
        "We'd like to reserve 2x2 inches for each image, and we'd like the whole grid to be no wider than 16 inches.\n",
        "\n",
        "The code below almost works. It does the following:\n",
        "\n",
        "1. Get a random number of sketches from some category (e.g. bears, stars, hockey sticks...)\n",
        "2. Create variables `rows`, `cols`, `height`, and `width`, setting them to numbers we pulled out of the air.\n",
        "3. Calls `plt.subplots()` using the variables from step 2, which creates a grid with the given characteristics.\n",
        "4. Draws the sketches from step 1 in the grid from step 3."
      ]
    },
    {
      "cell_type": "code",
      "metadata": {
        "id": "R5HA1GmyBCe7",
        "colab_type": "code",
        "colab": {
          "base_uri": "https://localhost:8080/",
          "height": 204
        },
        "outputId": "cd443ac4-1759-4472-b5c6-5c5f9f34deb8"
      },
      "source": [
        "!pip install kaggle"
      ],
      "execution_count": 10,
      "outputs": [
        {
          "output_type": "stream",
          "text": [
            "Requirement already satisfied: kaggle in /usr/local/lib/python3.6/dist-packages (1.5.6)\n",
            "Requirement already satisfied: python-dateutil in /usr/local/lib/python3.6/dist-packages (from kaggle) (2.8.1)\n",
            "Requirement already satisfied: urllib3<1.25,>=1.21.1 in /usr/local/lib/python3.6/dist-packages (from kaggle) (1.24.3)\n",
            "Requirement already satisfied: certifi in /usr/local/lib/python3.6/dist-packages (from kaggle) (2020.4.5.1)\n",
            "Requirement already satisfied: tqdm in /usr/local/lib/python3.6/dist-packages (from kaggle) (4.38.0)\n",
            "Requirement already satisfied: python-slugify in /usr/local/lib/python3.6/dist-packages (from kaggle) (4.0.0)\n",
            "Requirement already satisfied: six>=1.10 in /usr/local/lib/python3.6/dist-packages (from kaggle) (1.12.0)\n",
            "Requirement already satisfied: requests in /usr/local/lib/python3.6/dist-packages (from kaggle) (2.21.0)\n",
            "Requirement already satisfied: text-unidecode>=1.3 in /usr/local/lib/python3.6/dist-packages (from python-slugify->kaggle) (1.3)\n",
            "Requirement already satisfied: idna<2.9,>=2.5 in /usr/local/lib/python3.6/dist-packages (from requests->kaggle) (2.8)\n",
            "Requirement already satisfied: chardet<3.1.0,>=3.0.2 in /usr/local/lib/python3.6/dist-packages (from requests->kaggle) (3.0.4)\n"
          ],
          "name": "stdout"
        }
      ]
    },
    {
      "cell_type": "code",
      "metadata": {
        "id": "jqqBCQATd_re",
        "colab_type": "code",
        "colab": {}
      },
      "source": [
        "!mkdir .kaggle"
      ],
      "execution_count": 0,
      "outputs": []
    },
    {
      "cell_type": "code",
      "metadata": {
        "id": "IFl3HCCld1zG",
        "colab_type": "code",
        "colab": {}
      },
      "source": [
        "import json\n",
        "token = {\"username\":\"indra90\",\"key\":\"c887fef0b871c4250faa5d1d5b8c0b1e\"}\n",
        "with open('/content/.kaggle/kaggle.json', 'w') as file:\n",
        "    json.dump(token, file)"
      ],
      "execution_count": 0,
      "outputs": []
    },
    {
      "cell_type": "code",
      "metadata": {
        "id": "aM0Cuy9XeJ5r",
        "colab_type": "code",
        "colab": {
          "base_uri": "https://localhost:8080/",
          "height": 34
        },
        "outputId": "d5245485-af23-49bb-f7bc-098383041a6e"
      },
      "source": [
        "!cp /content/.kaggle/kaggle.json ~/.kaggle/kaggle.json"
      ],
      "execution_count": 15,
      "outputs": [
        {
          "output_type": "stream",
          "text": [
            "cp: cannot create regular file '/root/.kaggle/kaggle.json': No such file or directory\n"
          ],
          "name": "stdout"
        }
      ]
    },
    {
      "cell_type": "code",
      "metadata": {
        "id": "cNd74ySbePfA",
        "colab_type": "code",
        "colab": {
          "base_uri": "https://localhost:8080/",
          "height": 34
        },
        "outputId": "54abe25c-1c3f-4f41-f94a-c9a70b162847"
      },
      "source": [
        "!cp /content/.kaggle/kaggle.json ~/.kaggle/kaggle.json"
      ],
      "execution_count": 16,
      "outputs": [
        {
          "output_type": "stream",
          "text": [
            "cp: cannot create regular file '/root/.kaggle/kaggle.json': No such file or directory\n"
          ],
          "name": "stdout"
        }
      ]
    },
    {
      "cell_type": "code",
      "metadata": {
        "id": "WpvGyLBZeXVt",
        "colab_type": "code",
        "colab": {
          "base_uri": "https://localhost:8080/",
          "height": 85
        },
        "outputId": "299238e9-794b-4155-fa36-13bb5997bc2a"
      },
      "source": [
        "!git clone https://github.com/wxs/keras-mnist-tutorial.git"
      ],
      "execution_count": 18,
      "outputs": [
        {
          "output_type": "stream",
          "text": [
            "Cloning into 'keras-mnist-tutorial'...\n",
            "remote: Enumerating objects: 26, done.\u001b[K\n",
            "remote: Total 26 (delta 0), reused 0 (delta 0), pack-reused 26\u001b[K\n",
            "Unpacking objects: 100% (26/26), done.\n"
          ],
          "name": "stdout"
        }
      ]
    },
    {
      "cell_type": "code",
      "metadata": {
        "id": "0Pu1hk2wexdB",
        "colab_type": "code",
        "colab": {}
      },
      "source": [
        "!pip install -q keras"
      ],
      "execution_count": 0,
      "outputs": []
    },
    {
      "cell_type": "code",
      "metadata": {
        "id": "gyhoXoVMe5F7",
        "colab_type": "code",
        "colab": {}
      },
      "source": [
        "!pip install -q learntools.python.quickdraw"
      ],
      "execution_count": 0,
      "outputs": []
    },
    {
      "cell_type": "code",
      "metadata": {
        "id": "tlR8HcMN_8Y6",
        "colab_type": "code",
        "colab": {}
      },
      "source": [
        "import random\n",
        "import learntools\n",
        "from matplotlib import pyplot as plt\n",
        "from learntools.python.quickdraw import random_category, sample_images_of_category, draw_images_on_subplots\n",
        "\n",
        "## Step 1: Sample some sketches\n",
        "# How many sketches to view - a random number from 2 to 20\n",
        "n = random.randint(2, 20)\n",
        "# Choose a random quickdraw category. (Check out https://quickdraw.withgoogle.com/data for an overview of categories)\n",
        "category = random_category()\n",
        "imgs = sample_images_of_category(n, category)\n",
        "\n",
        "## Step 2: Choose the grid properties\n",
        "rows = n // 8 + min(1, n % 8)\n",
        "cols = min(n, 8)\n",
        "# The height and width of the whole grid, measured in inches.\n",
        "height = rows * 2\n",
        "width = cols * 2\n",
        "\n",
        "## Step 3: Create the grid\n",
        "grid = plt.subplots(rows, cols, figsize=(width, height))\n",
        "\n",
        "## Step 4: Draw the sketches in the grid\n",
        "draw_images_on_subplots(imgs, grid)"
      ],
      "execution_count": 0,
      "outputs": []
    }
  ]
}