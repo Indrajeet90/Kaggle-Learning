{
  "nbformat": 4,
  "nbformat_minor": 0,
  "metadata": {
    "colab": {
      "name": "Machine Learning- Advanced.ipynb",
      "version": "0.3.2",
      "provenance": [],
      "collapsed_sections": [],
      "include_colab_link": true
    },
    "kernelspec": {
      "name": "python3",
      "display_name": "Python 3"
    },
    "accelerator": "GPU"
  },
  "cells": [
    {
      "cell_type": "markdown",
      "metadata": {
        "id": "view-in-github",
        "colab_type": "text"
      },
      "source": [
        "[View in Colaboratory](https://colab.research.google.com/github/Indrajeet90/Kaggle-Learning/blob/master/Machine_Learning_Advanced.ipynb)"
      ]
    },
    {
      "metadata": {
        "id": "y23VqR6Gn-PV",
        "colab_type": "text"
      },
      "cell_type": "markdown",
      "source": [
        "# Handling Misssing Values  \n",
        "We will see an example for predicting housing prices from the Melbourne Housing data.Most libraries (including scikit-learn) will give an error if one tries to build a model using data with missing values. So we'll need to choose one of the strategies below.   \n",
        "   1) A Simple Option: Drop Columns with Missing Values  \n",
        "   2) A Better Option: Imputation   \n",
        "   3) An Extension To Imputation  \n",
        "\n",
        "Basic Problem Set-up"
      ]
    },
    {
      "metadata": {
        "id": "int9IzZXnvQf",
        "colab_type": "code",
        "colab": {
          "resources": {
            "http://localhost:8080/nbextensions/google.colab/files.js": {
              "data": "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",
              "ok": true,
              "headers": [
                [
                  "content-type",
                  "application/javascript"
                ]
              ],
              "status": 200,
              "status_text": ""
            }
          },
          "base_uri": "https://localhost:8080/",
          "height": 72
        },
        "outputId": "804bf08f-7ad1-4ddc-a953-ea1eeede454b"
      },
      "cell_type": "code",
      "source": [
        "from google.colab import files\n",
        "uploaded = files.upload()"
      ],
      "execution_count": 3,
      "outputs": [
        {
          "output_type": "display_data",
          "data": {
            "text/html": [
              "\n",
              "     <input type=\"file\" id=\"files-87b9aada-82b1-4f0b-9997-74f52ff0f858\" name=\"files[]\" multiple disabled />\n",
              "     <output id=\"result-87b9aada-82b1-4f0b-9997-74f52ff0f858\">\n",
              "      Upload widget is only available when the cell has been executed in the\n",
              "      current browser session. Please rerun this cell to enable.\n",
              "      </output>\n",
              "      <script src=\"/nbextensions/google.colab/files.js\"></script> "
            ],
            "text/plain": [
              "<IPython.core.display.HTML object>"
            ]
          },
          "metadata": {
            "tags": []
          }
        },
        {
          "output_type": "stream",
          "text": [
            "Saving melb_data.csv to melb_data.csv\n"
          ],
          "name": "stdout"
        }
      ]
    },
    {
      "metadata": {
        "id": "3nCi-paYrRGt",
        "colab_type": "code",
        "colab": {}
      },
      "cell_type": "code",
      "source": [
        "import pandas as pd\n",
        "\n",
        "# Load data\n",
        "melb_data = pd.read_csv('melb_data.csv')\n",
        "\n",
        "from sklearn.ensemble import RandomForestRegressor\n",
        "from sklearn.metrics import mean_absolute_error\n",
        "from sklearn.model_selection import train_test_split\n",
        "\n",
        "melb_target = melb_data.Price\n",
        "melb_predictors = melb_data.drop(['Price'], axis=1)\n",
        "\n",
        "# For the sake of keeping the example simple, we'll use only numeric predictors. \n",
        "melb_numeric_predictors = melb_predictors.select_dtypes(exclude=['object'])"
      ],
      "execution_count": 0,
      "outputs": []
    },
    {
      "metadata": {
        "id": "8hfqd05yE_tn",
        "colab_type": "text"
      },
      "cell_type": "markdown",
      "source": [
        "**Create Function to Measure Quality of An Approach**   \n",
        "We will divide our data into training and test. Next, We've loaded a function score_dataset(X_train, X_test, y_train, y_test) to compare the quality of diffrent approaches to missing values. This function reports the out-of-sample MAE score from a RandomForest."
      ]
    },
    {
      "metadata": {
        "id": "TW858TWFFBYG",
        "colab_type": "code",
        "colab": {}
      },
      "cell_type": "code",
      "source": [
        "# Creating a function to calculate quality of missing value treatment methods\n",
        "from sklearn.ensemble import RandomForestRegressor\n",
        "from sklearn.metrics import mean_absolute_error\n",
        "from sklearn.model_selection import train_test_split\n",
        "\n",
        "X_train, X_test, y_train, y_test = train_test_split(melb_numeric_predictors, \n",
        "                                                    melb_target,\n",
        "                                                    train_size=0.7, \n",
        "                                                    test_size=0.3, \n",
        "                                                    random_state=0)\n",
        "\n",
        "def score_dataset(X_train, X_test, y_train, y_test):\n",
        "    model = RandomForestRegressor()\n",
        "    model.fit(X_train, y_train)\n",
        "    preds = model.predict(X_test)\n",
        "    return mean_absolute_error(y_test, preds)"
      ],
      "execution_count": 0,
      "outputs": []
    },
    {
      "metadata": {
        "id": "mP6PKAd7FdHu",
        "colab_type": "text"
      },
      "cell_type": "markdown",
      "source": [
        "**1. Get Model Score from Dropping Columns with Missing Values**"
      ]
    },
    {
      "metadata": {
        "id": "UrG13fgdFdwn",
        "colab_type": "code",
        "colab": {
          "base_uri": "https://localhost:8080/",
          "height": 51
        },
        "outputId": "d618b723-42a5-45cc-88ac-0d4b35913d45"
      },
      "cell_type": "code",
      "source": [
        "cols_with_missing = [col for col in X_train.columns if X_train[col].isnull().any()]\n",
        "reduced_X_train = X_train.drop(cols_with_missing, axis=1)\n",
        "reduced_X_test  = X_test.drop(cols_with_missing, axis=1)\n",
        "print(\"Mean Absolute Error from dropping columns with Missing Values:\")\n",
        "print(score_dataset(reduced_X_train, reduced_X_test, y_train, y_test))"
      ],
      "execution_count": 22,
      "outputs": [
        {
          "output_type": "stream",
          "text": [
            "Mean Absolute Error from dropping columns with Missing Values:\n",
            "191151.5037344835\n"
          ],
          "name": "stdout"
        }
      ]
    },
    {
      "metadata": {
        "id": "F-hIONG5FkkI",
        "colab_type": "text"
      },
      "cell_type": "markdown",
      "source": [
        "**2. Get Model Score from Imputation**"
      ]
    },
    {
      "metadata": {
        "id": "SnhbbB9eFlN1",
        "colab_type": "code",
        "colab": {
          "base_uri": "https://localhost:8080/",
          "height": 51
        },
        "outputId": "1f646c98-f8e3-4a7a-bc66-d29355375ba8"
      },
      "cell_type": "code",
      "source": [
        "import numpy as np\n",
        "import matplotlib.pyplot as plt\n",
        "\n",
        "from sklearn.preprocessing import Imputer\n",
        "my_imputer = Imputer()\n",
        "imputed_X_train = my_imputer.fit_transform(X_train)\n",
        "imputed_X_test = my_imputer.transform(X_test)\n",
        "print(\"Mean Absolute Error from Imputation:\")\n",
        "print(score_dataset(imputed_X_train, imputed_X_test, y_train, y_test))"
      ],
      "execution_count": 23,
      "outputs": [
        {
          "output_type": "stream",
          "text": [
            "Mean Absolute Error from Imputation:\n",
            "186056.3311160203\n"
          ],
          "name": "stdout"
        }
      ]
    },
    {
      "metadata": {
        "id": "c1KZeyG4IT75",
        "colab_type": "text"
      },
      "cell_type": "markdown",
      "source": [
        "**3.Get Score from Imputation with Extra Columns Showing What Was Imputed**"
      ]
    },
    {
      "metadata": {
        "id": "JlVJs4y_IUwi",
        "colab_type": "code",
        "colab": {
          "base_uri": "https://localhost:8080/",
          "height": 51
        },
        "outputId": "df2e7d3f-dcfe-4389-aa9b-2ac75f3ba073"
      },
      "cell_type": "code",
      "source": [
        "imputed_X_train_plus = X_train.copy()\n",
        "imputed_X_test_plus = X_test.copy()\n",
        "\n",
        "cols_with_missing = (col for col in X_train.columns if X_train[col].isnull().any())\n",
        "for col in cols_with_missing:\n",
        "    imputed_X_train_plus[col + '_was_missing'] = imputed_X_train_plus[col].isnull()\n",
        "    imputed_X_test_plus[col + '_was_missing'] = imputed_X_test_plus[col].isnull()\n",
        "\n",
        "# Imputation\n",
        "my_imputer = Imputer()\n",
        "imputed_X_train_plus = my_imputer.fit_transform(imputed_X_train_plus)\n",
        "imputed_X_test_plus = my_imputer.transform(imputed_X_test_plus)\n",
        "\n",
        "print(\"Mean Absolute Error from Imputation while Track What Was Imputed:\")\n",
        "print(score_dataset(imputed_X_train_plus, imputed_X_test_plus, y_train, y_test))"
      ],
      "execution_count": 24,
      "outputs": [
        {
          "output_type": "stream",
          "text": [
            "Mean Absolute Error from Imputation while Track What Was Imputed:\n",
            "186479.5960294083\n"
          ],
          "name": "stdout"
        }
      ]
    },
    {
      "metadata": {
        "id": "DL4zYd2wIZdJ",
        "colab_type": "text"
      },
      "cell_type": "markdown",
      "source": [
        "As is common, imputing missing values allowed us to improve our model compared to dropping those columns. We got an additional boost by tracking what values had been imputed."
      ]
    },
    {
      "metadata": {
        "id": "fRZBtR28Idga",
        "colab_type": "text"
      },
      "cell_type": "markdown",
      "source": [
        "#Using Categorical Data"
      ]
    },
    {
      "metadata": {
        "id": "R6LRMBt2Ifgq",
        "colab_type": "text"
      },
      "cell_type": "markdown",
      "source": [
        "We will get an error trying to plug these variables into most machine learning models in Python without \"encoding\" them first. Here is the most popular method for encoding categorical variables.\n",
        "\n",
        "**One-Hot Encoding : The Standard Approach for Categorical Data**   \n",
        "One hot encoding is the most widespread approach, and it works very well unless your categorical variable takes on a large number of values. It creates new (binary) columns, indicating the presence of each possible value from the original data. Let's work through an example.    \n",
        "The values in the original data are Red, Yellow and Green. We create a separate column for each possible value. Wherever the original value was Red, we put a 1 in the Red column.\n"
      ]
    },
    {
      "metadata": {
        "id": "Hrl68-f8KBoN",
        "colab_type": "text"
      },
      "cell_type": "markdown",
      "source": [
        "**Example of hot coding**   \n",
        "This data contains housing characteristics. You will use them to predict home prices, which are stored in a Series called target."
      ]
    },
    {
      "metadata": {
        "id": "8No2w0OTIxt_",
        "colab_type": "code",
        "colab": {}
      },
      "cell_type": "code",
      "source": [
        "# Read the data\n",
        "import pandas as pd\n",
        "train_data = pd.read_csv('train.csv')\n",
        "test_data = pd.read_csv('test.csv')\n",
        "\n",
        "# Drop houses where the target is missing\n",
        "train_data.dropna(axis=0, subset=['SalePrice'], inplace=True)\n",
        "\n",
        "target = train_data.SalePrice\n",
        "\n",
        "# Since missing values isn't the focus of this tutorial, we use the simplest\n",
        "# possible approach, which drops these columns. \n",
        "cols_with_missing = [col for col in train_data.columns if train_data[col].isnull().any()]                                  \n",
        "candidate_train_predictors = train_data.drop(['Id', 'SalePrice'] + cols_with_missing, axis=1)\n",
        "candidate_test_predictors = test_data.drop(['Id'] + cols_with_missing, axis=1)\n",
        "# \"cardinality\" means the number of unique values in a column.\n",
        "# We use it as our only way to select categorical columns here. This is convenient, though a little arbitrary.\n",
        "low_cardinality_cols = [cname for cname in candidate_train_predictors.columns if \n",
        "                                candidate_train_predictors[cname].nunique() < 10 and\n",
        "                                candidate_train_predictors[cname].dtype == \"object\"]\n",
        "numeric_cols = [cname for cname in candidate_train_predictors.columns if \n",
        "                                candidate_train_predictors[cname].dtype in ['int64', 'float64']]\n",
        "my_cols = low_cardinality_cols + numeric_cols\n",
        "train_predictors = candidate_train_predictors[my_cols]\n",
        "test_predictors = candidate_test_predictors[my_cols]"
      ],
      "execution_count": 0,
      "outputs": []
    },
    {
      "metadata": {
        "id": "cplJNzJDKQbn",
        "colab_type": "text"
      },
      "cell_type": "markdown",
      "source": [
        "Pandas assigns a data type (called a dtype) to each column or Series. Let's see a random sample of dtypes from our prediction data:"
      ]
    },
    {
      "metadata": {
        "id": "gjyZ5OLnKNXQ",
        "colab_type": "code",
        "colab": {
          "base_uri": "https://localhost:8080/",
          "height": 204
        },
        "outputId": "f0e431d5-27ad-41d7-c2c7-a9a7348c76ea"
      },
      "cell_type": "code",
      "source": [
        "train_predictors.dtypes.sample(10)"
      ],
      "execution_count": 26,
      "outputs": [
        {
          "output_type": "execute_result",
          "data": {
            "text/plain": [
              "Foundation    object\n",
              "GrLivArea      int64\n",
              "MSZoning      object\n",
              "YearBuilt      int64\n",
              "PoolArea       int64\n",
              "MSSubClass     int64\n",
              "Utilities     object\n",
              "CentralAir    object\n",
              "LandSlope     object\n",
              "ExterQual     object\n",
              "dtype: object"
            ]
          },
          "metadata": {
            "tags": []
          },
          "execution_count": 26
        }
      ]
    },
    {
      "metadata": {
        "id": "5Y-uGThmKXut",
        "colab_type": "text"
      },
      "cell_type": "markdown",
      "source": [
        "Object indicates a column has text (there are other things it could be theoretically be, but that's unimportant for our purposes). It's most common to one-hot encode these \"object\" columns, since they can't be plugged directly into most models. Pandas offers a convenient function called get_dummies to get one-hot encodings. Call it like this:"
      ]
    },
    {
      "metadata": {
        "id": "v456VwEkKY4u",
        "colab_type": "code",
        "colab": {}
      },
      "cell_type": "code",
      "source": [
        "one_hot_encoded_training_predictors = pd.get_dummies(train_predictors)"
      ],
      "execution_count": 0,
      "outputs": []
    },
    {
      "metadata": {
        "id": "eeesM3_sKd03",
        "colab_type": "text"
      },
      "cell_type": "markdown",
      "source": [
        "One-hot encoding usually helps, but it varies on a case-by-case basis. In this case, there doesn't appear to be any meaningful benefit from using the one-hot encoded variables."
      ]
    },
    {
      "metadata": {
        "id": "4V3SA5muKb3g",
        "colab_type": "code",
        "colab": {
          "base_uri": "https://localhost:8080/",
          "height": 51
        },
        "outputId": "8076a52d-87b5-46c7-85ed-b7204ebe8da4"
      },
      "cell_type": "code",
      "source": [
        "from sklearn.model_selection import cross_val_score\n",
        "from sklearn.ensemble import RandomForestRegressor\n",
        "\n",
        "def get_mae(X, y):\n",
        "    # multiple by -1 to make positive MAE score instead of neg value returned as sklearn convention\n",
        "    return -1 * cross_val_score(RandomForestRegressor(50), X, y, scoring = 'neg_mean_absolute_error').mean()\n",
        "\n",
        "predictors_without_categoricals = train_predictors.select_dtypes(exclude=['object'])\n",
        "\n",
        "mae_without_categoricals = get_mae(predictors_without_categoricals, target)\n",
        "\n",
        "mae_one_hot_encoded = get_mae(one_hot_encoded_training_predictors, target)\n",
        "\n",
        "print('Mean Absolute Error when Dropping Categoricals:',mae_without_categoricals)\n",
        "print('Mean Abslute Error with One-Hot Encoding:',mae_one_hot_encoded)"
      ],
      "execution_count": 28,
      "outputs": [
        {
          "output_type": "stream",
          "text": [
            "Mean Absolute Error when Dropping Categoricals: 18258.72892232334\n",
            "Mean Abslute Error with One-Hot Encoding: 18120.8573799444\n"
          ],
          "name": "stdout"
        }
      ]
    },
    {
      "metadata": {
        "id": "TaSTE-YxKwxK",
        "colab_type": "text"
      },
      "cell_type": "markdown",
      "source": [
        "# XGBoost  \n",
        "XGBoost is an implementation of the Gradient Boosted Decision Trees algorithm (scikit-learn has another version of this algorithm, but XGBoost has some technical advantages.) What is Gradient Boosted Decision Trees? We'll walk through a diagram.   \n",
        "![alt text](https://i.imgur.com/e7MIgXk.png)       \n",
        "We go through cycles that repeatedly builds new models and combines them into an ensemble model. We start the cycle by calculating the errors for each observation in the dataset. We then build a new model to predict those. We add predictions from this error-predicting model to the \"ensemble of models.\"    \n",
        "\n",
        "To make a prediction, we add the predictions from all previous models. We can use these predictions to calculate new errors, build the next model, and add it to the ensemble.    \n",
        "\n",
        "There's one piece outside that cycle. We need some base prediction to start the cycle. In practice, the initial predictions can be pretty naive. Even if it's predictions are wildly inaccurate, subsequent additions to the ensemble will address those errors."
      ]
    },
    {
      "metadata": {
        "id": "uRhSWhahLQ8V",
        "colab_type": "text"
      },
      "cell_type": "markdown",
      "source": [
        "We will start with the data pre-loaded into train_X, test_X, train_y, test_y."
      ]
    },
    {
      "metadata": {
        "id": "MSWs36J-K0iQ",
        "colab_type": "code",
        "colab": {}
      },
      "cell_type": "code",
      "source": [
        "import pandas as pd\n",
        "from sklearn.model_selection import train_test_split\n",
        "from sklearn.preprocessing import Imputer\n",
        "\n",
        "data = pd.read_csv('train.csv')\n",
        "data.dropna(axis=0, subset=['SalePrice'], inplace=True)\n",
        "y = data.SalePrice\n",
        "X = data.drop(['SalePrice'], axis=1).select_dtypes(exclude=['object'])\n",
        "train_X, test_X, train_y, test_y = train_test_split(X.as_matrix(), y.as_matrix(), test_size=0.25)\n",
        "\n",
        "my_imputer = Imputer()\n",
        "train_X = my_imputer.fit_transform(train_X)\n",
        "test_X = my_imputer.transform(test_X)"
      ],
      "execution_count": 0,
      "outputs": []
    },
    {
      "metadata": {
        "id": "dx2e7oUcLZm8",
        "colab_type": "text"
      },
      "cell_type": "markdown",
      "source": [
        "**XGBoost Model:** We build and fit a model just as we would in scikit-learn."
      ]
    },
    {
      "metadata": {
        "id": "CRvvz4fHLV6f",
        "colab_type": "code",
        "colab": {
          "base_uri": "https://localhost:8080/",
          "height": 119
        },
        "outputId": "fb7b5104-8914-445a-e77a-308b5f6bc2be"
      },
      "cell_type": "code",
      "source": [
        "from xgboost import XGBRegressor\n",
        "\n",
        "my_model = XGBRegressor()\n",
        "# Add silent=True to avoid printing out updates with each cycle\n",
        "my_model.fit(train_X, train_y, verbose=False)"
      ],
      "execution_count": 30,
      "outputs": [
        {
          "output_type": "execute_result",
          "data": {
            "text/plain": [
              "XGBRegressor(base_score=0.5, booster='gbtree', colsample_bylevel=1,\n",
              "       colsample_bytree=1, gamma=0, learning_rate=0.1, max_delta_step=0,\n",
              "       max_depth=3, min_child_weight=1, missing=None, n_estimators=100,\n",
              "       n_jobs=1, nthread=None, objective='reg:linear', random_state=0,\n",
              "       reg_alpha=0, reg_lambda=1, scale_pos_weight=1, seed=None,\n",
              "       silent=True, subsample=1)"
            ]
          },
          "metadata": {
            "tags": []
          },
          "execution_count": 30
        }
      ]
    },
    {
      "metadata": {
        "id": "tuXmn6Z_LjVZ",
        "colab_type": "text"
      },
      "cell_type": "markdown",
      "source": [
        "We similarly evaluate a model and make predictions as we would do in scikit-learn."
      ]
    },
    {
      "metadata": {
        "id": "f7tBNVjALpIk",
        "colab_type": "code",
        "colab": {
          "base_uri": "https://localhost:8080/",
          "height": 34
        },
        "outputId": "99b18d6d-9ea4-471f-e9de-92b1a6c4cb14"
      },
      "cell_type": "code",
      "source": [
        "# make predictions\n",
        "predictions = my_model.predict(test_X)\n",
        "\n",
        "from sklearn.metrics import mean_absolute_error\n",
        "print(\"Mean Absolute Error : \",mean_absolute_error(predictions, test_y))"
      ],
      "execution_count": 32,
      "outputs": [
        {
          "output_type": "stream",
          "text": [
            "Mean Absolute Error :  19783.78955479452\n"
          ],
          "name": "stdout"
        }
      ]
    },
    {
      "metadata": {
        "id": "ekKje4PIL8Uk",
        "colab_type": "text"
      },
      "cell_type": "markdown",
      "source": [
        "#Model Tuning\n",
        "XGBoost has a few parameters that can dramatically affect your model's accuracy and training speed. The first parameters you should understand are:"
      ]
    },
    {
      "metadata": {
        "id": "Pm9XUdVHL-qQ",
        "colab_type": "text"
      },
      "cell_type": "markdown",
      "source": [
        "**n_estimators and early_stopping_rounds**   \n",
        "**n_estimators** specifies how many times to go through the modeling cycle described above.The argument early_stopping_rounds offers a way to automatically find the ideal value. **Early stopping **causes the model to stop iterating when the validation score stops improving, even if we aren't at the hard stop for n_estimators. It's smart to set a high value for **n_estimators** and then use **early_stopping_rounds** to find the optimal time to stop iterating."
      ]
    },
    {
      "metadata": {
        "id": "ehUaCHR5MGP0",
        "colab_type": "text"
      },
      "cell_type": "markdown",
      "source": [
        "Since random chance sometimes causes a single round where validation scores don't improve, you need to specify a number for how many rounds of straight deterioration to allow before stopping. **early_stopping_rounds = 5** is a reasonable value. Thus we stop after 5 straight rounds of deteriorating validation scores."
      ]
    },
    {
      "metadata": {
        "id": "7VnQ9NlNZsfc",
        "colab_type": "text"
      },
      "cell_type": "markdown",
      "source": [
        "**Learning_rate**  \n",
        "Instead of getting predictions by simply adding up the predictions from each component model, we will multiply the predictions from each model by a small number before adding them in. This means each tree we add to the ensemble helps us less. In practice, this reduces the model's propensity to overfit.\n",
        "\n",
        "So, we can use a higher value of n_estimators without overfitting. If we use early stopping, the appropriate number of trees will be set automatically.\n",
        "\n",
        "In general, a small learning rate will yield more accurate XGBoost models, though it will also take the model longer to train since it does more iterations through the cycle."
      ]
    },
    {
      "metadata": {
        "id": "K71AVIvcM3w0",
        "colab_type": "code",
        "colab": {
          "base_uri": "https://localhost:8080/",
          "height": 119
        },
        "outputId": "7127cf64-7ae6-443b-dd82-2c16081c3bdb"
      },
      "cell_type": "code",
      "source": [
        "my_model = XGBRegressor(n_estimators=1000, learning_rate=0.05)\n",
        "my_model.fit(train_X, train_y, early_stopping_rounds=5, \n",
        "             eval_set=[(test_X, test_y)], verbose=False)"
      ],
      "execution_count": 33,
      "outputs": [
        {
          "output_type": "execute_result",
          "data": {
            "text/plain": [
              "XGBRegressor(base_score=0.5, booster='gbtree', colsample_bylevel=1,\n",
              "       colsample_bytree=1, gamma=0, learning_rate=0.05, max_delta_step=0,\n",
              "       max_depth=3, min_child_weight=1, missing=None, n_estimators=1000,\n",
              "       n_jobs=1, nthread=None, objective='reg:linear', random_state=0,\n",
              "       reg_alpha=0, reg_lambda=1, scale_pos_weight=1, seed=None,\n",
              "       silent=True, subsample=1)"
            ]
          },
          "metadata": {
            "tags": []
          },
          "execution_count": 33
        }
      ]
    },
    {
      "metadata": {
        "id": "WypkcNblaXjO",
        "colab_type": "text"
      },
      "cell_type": "markdown",
      "source": [
        "**n_jobs**   \n",
        "On larger datasets where runtime is a consideration, we can use parallelism to build your models faster. It's common to set the parameter n_jobs equal to the number of cores on a machine. On smaller datasets, this won't help."
      ]
    },
    {
      "metadata": {
        "id": "8UPS8qgcawUP",
        "colab_type": "text"
      },
      "cell_type": "markdown",
      "source": [
        "# Partial Dependence Plots"
      ]
    },
    {
      "metadata": {
        "id": "n2MH-oQ3ayG-",
        "colab_type": "text"
      },
      "cell_type": "markdown",
      "source": [
        "Some people will argue we cannot see how machine learning models are working on any given dataset, so we can neither extract insight nor identify problems with the model.   \n",
        "\n",
        "Partial dependence plots show how each variable or predictor affects the model's predictions. This is useful for questions like:\n",
        "\n",
        "\n",
        "\n",
        "*  How much of wage differences between men and women are due solely to gender, as opposed to differences in education backgrounds or work experience?\n",
        "*   Controlling for house characteristics, what impact do longitude and latitude have on home prices?To restate this, we want to understand how similarly sized houses would be priced in different areas, even if the homes actually at these sites are different sizes. \n",
        "*   Are health differences between two groups due to differences in their diets, or due to other factors?\n",
        "\n",
        "Partial dependence plots can be interepreted similarly to the coefficients in linear or logistics models.\n",
        "\n",
        "\n",
        "\n",
        "\n",
        "\n",
        "\n"
      ]
    },
    {
      "metadata": {
        "id": "qLsaaJNMbgAE",
        "colab_type": "text"
      },
      "cell_type": "markdown",
      "source": [
        "# Interpreting Partial Dependence Plots"
      ]
    },
    {
      "metadata": {
        "id": "A-538gnvbhdz",
        "colab_type": "text"
      },
      "cell_type": "markdown",
      "source": [
        "We'll start with 2 partial dependence plots showing the relationship between Price and a couple variables from the Melbourne Housing dataset. We'll walk through how these plots are created and interpreted."
      ]
    },
    {
      "metadata": {
        "id": "G3CoSgeobryj",
        "colab_type": "code",
        "colab": {
          "base_uri": "https://localhost:8080/",
          "height": 280
        },
        "outputId": "66ed9ca1-10d6-4fb9-f22b-5039a46456f4"
      },
      "cell_type": "code",
      "source": [
        "# XGBoost model using Melbourne housing data\n",
        "import pandas as pd\n",
        "from sklearn.ensemble import GradientBoostingRegressor, GradientBoostingClassifier\n",
        "from sklearn.ensemble.partial_dependence import partial_dependence, plot_partial_dependence\n",
        "from sklearn.preprocessing import Imputer\n",
        "\n",
        "cols_to_use = ['Distance', 'Landsize', 'BuildingArea']\n",
        "\n",
        "# function to read data, impute missing values for selected columns\n",
        "def get_some_data():\n",
        "    data = pd.read_csv('melb_data.csv')\n",
        "    y = data.Price\n",
        "    X = data[cols_to_use]\n",
        "    my_imputer = Imputer()\n",
        "    imputed_X = my_imputer.fit_transform(X)\n",
        "    return imputed_X, y\n",
        "\n",
        "# get_some_data is defined above.\n",
        "X, y = get_some_data()\n",
        "# scikit-learn originally implemented partial dependence plots only for Gradient Boosting models\n",
        "# this was due to an implementation detail, and a future release will support all model types.\n",
        "my_model = GradientBoostingRegressor()\n",
        "# fit the model as usual\n",
        "my_model.fit(X, y)\n",
        "# Here we make the plot\n",
        "my_plots = plot_partial_dependence(my_model,       \n",
        "                                   features=[0, 2], # column numbers of plots we want to show\n",
        "                                   X=X,            # raw predictors data.\n",
        "                                   feature_names=['Distance', 'Landsize', 'BuildingArea'], # labels on graphs\n",
        "                                   grid_resolution=10) # number of values to plot on x axis"
      ],
      "execution_count": 34,
      "outputs": [
        {
          "output_type": "display_data",
          "data": {
            "image/png": "[encoded data removed]",
            "text/plain": [
              "<matplotlib.figure.Figure at 0x7f58adf96dd8>"
            ]
          },
          "metadata": {
            "tags": []
          }
        }
      ]
    },
    {
      "metadata": {
        "id": "xYIxm9pmdIO5",
        "colab_type": "text"
      },
      "cell_type": "markdown",
      "source": [
        "**The partial dependence plot is calculated only after the model has been fit. **The model is fit on real data. In that real data, houses in different parts of town may differ in myriad ways but after the model is fit, we could start by taking all the characteristics of a single house. Say, a house with 2 bedrooms, 2 bathrooms, a large lot, an age of 10 years, etc.      \n",
        "\n",
        "We then use the model to predict the price of that house, but we change the distance variable before making a prediction. We first predict the price for that house when sitting distance to 4. We then predict it's price setting distance to 5. Then predict again for 6. And so on. We trace out how predicted price changes (on the vertical axis) as we move from small values of distance to large values (on the horizontal axis).   \n",
        "\n",
        "Because of interactions, the partial dependence plot for a single house may be atypical. So, instead we repeat that mental experiment with multiple houses, and we plot the average predicted price on the vertical axis. You'll see some negative numbers. That doesn't mean the price would sell for a negative price. Instead it means the prices would have been less than the actual average price for that distance.       \n",
        "\n",
        "In the left graph, we see house prices fall as we get further from the central business distract. Though there seems to be a nice suburb about 16 kilometers out, where home prices are higher than many nearer and further suburbs.\n",
        "\n",
        "The right graph shows the impact of building area, which is interpreted similarly. A larger building area means higher prices."
      ]
    },
    {
      "metadata": {
        "id": "FDYscQiQfKnb",
        "colab_type": "text"
      },
      "cell_type": "markdown",
      "source": [
        "Partial dependence plots are a great way (though not the only way) to extract insights from complex models. These can be incredibly powerful for communicating those insights to colleagues or non-technical users."
      ]
    },
    {
      "metadata": {
        "id": "5UYZOjjrgUsh",
        "colab_type": "text"
      },
      "cell_type": "markdown",
      "source": [
        "# Pipelines"
      ]
    },
    {
      "metadata": {
        "id": "yTxSjbICgWHT",
        "colab_type": "text"
      },
      "cell_type": "markdown",
      "source": [
        "A pipeline bundles preprocessing and modeling steps so we can use the whole bundle as if it were a single step.\n",
        "\n",
        "Many data scientists hack together models without pipelines, but Pipelines have some important benefits. Those include:\n",
        "\n",
        "*  **Cleaner Code:** We won't need to keep track of your training (and testing) data at each step of processing. Accounting for data at each step of processing can get messy. With a pipeline,we don't need to manually keep track of each step.\n",
        "*  **Fewer Bugs:** There are fewer opportunities to mis-apply a step or forget a pre-processing step.\n",
        "*  **Easier to Productionize:** It can be surprisingly hard to transition a model from a prototype to something deployable at scale. We won't go into the many related concerns here, but pipelines can help.\n",
        "*   **More Options For Model Testing:** We will see an example in the next tutorial, which covers cross-validation.\n",
        "\n",
        "We will use Melbourne dataset for our exercise.\n",
        "\n",
        "\n",
        "\n",
        "\n"
      ]
    },
    {
      "metadata": {
        "id": "nG8rnX3Bgpcw",
        "colab_type": "code",
        "colab": {}
      },
      "cell_type": "code",
      "source": [
        "import pandas as pd\n",
        "from sklearn.model_selection import train_test_split\n",
        "\n",
        "# Read Data\n",
        "data = pd.read_csv('melb_data.csv')\n",
        "cols_to_use = ['Rooms', 'Distance', 'Landsize', 'BuildingArea', 'YearBuilt']\n",
        "X = data[cols_to_use]\n",
        "y = data.Price\n",
        "train_X, test_X, train_y, test_y = train_test_split(X, y)"
      ],
      "execution_count": 0,
      "outputs": []
    },
    {
      "metadata": {
        "id": "4Or6TBkdhRNW",
        "colab_type": "text"
      },
      "cell_type": "markdown",
      "source": [
        "We have a modeling process that uses an Imputer to fill in missing values, followed by a RandomForestRegressor to make predictions. These can be bundled together with the **make_pipeline** function as shown below."
      ]
    },
    {
      "metadata": {
        "id": "SSrZVk1yhM8C",
        "colab_type": "code",
        "colab": {}
      },
      "cell_type": "code",
      "source": [
        "from sklearn.ensemble import RandomForestRegressor\n",
        "from sklearn.pipeline import make_pipeline\n",
        "from sklearn.preprocessing import Imputer\n",
        "\n",
        "my_pipeline = make_pipeline(Imputer(), RandomForestRegressor())"
      ],
      "execution_count": 0,
      "outputs": []
    },
    {
      "metadata": {
        "id": "XHwzbRrGhti_",
        "colab_type": "text"
      },
      "cell_type": "markdown",
      "source": [
        "We can now fit and predict using this pipeline as a fused whole."
      ]
    },
    {
      "metadata": {
        "id": "RT4Qma_HhvQs",
        "colab_type": "code",
        "colab": {}
      },
      "cell_type": "code",
      "source": [
        "my_pipeline.fit(train_X, train_y)\n",
        "predictions = my_pipeline.predict(test_X)"
      ],
      "execution_count": 0,
      "outputs": []
    },
    {
      "metadata": {
        "id": "qeVNi0Aeh05N",
        "colab_type": "text"
      },
      "cell_type": "markdown",
      "source": [
        "For comparison, here is the code to do the same thing without pipelines"
      ]
    },
    {
      "metadata": {
        "id": "THEJC0Ifh1oV",
        "colab_type": "code",
        "colab": {}
      },
      "cell_type": "code",
      "source": [
        "my_imputer = Imputer()\n",
        "my_model = RandomForestRegressor()\n",
        "\n",
        "imputed_train_X = my_imputer.fit_transform(train_X)\n",
        "imputed_test_X = my_imputer.transform(test_X)\n",
        "my_model.fit(imputed_train_X, train_y)\n",
        "predictions = my_model.predict(imputed_test_X)"
      ],
      "execution_count": 0,
      "outputs": []
    },
    {
      "metadata": {
        "id": "XA7kb6IJiRb-",
        "colab_type": "text"
      },
      "cell_type": "markdown",
      "source": [
        "Most scikit-learn objects are either transformers or models.\n",
        "\n",
        "**Transformers **are for pre-processing before modeling. The Imputer class (for filling in missing values) is an example of a transformer. Over time, we will learn many more transformers, and you will frequently use multiple transformers sequentially.\n",
        "\n",
        "**Models** are used to make predictions. We will usually preprocess your data (with transformers) before putting it in a model.\n",
        "\n",
        "We can tell if an object is a transformer or a model by how we apply it. After fitting a transformer, we apply it with the transform command. After fitting a model, we apply it with the predict command. A pipeline must start with transformer steps and end with a model. This is what we want anyway."
      ]
    },
    {
      "metadata": {
        "id": "y-usNj59jUKi",
        "colab_type": "text"
      },
      "cell_type": "markdown",
      "source": [
        "# Cross Validation\n",
        "Machine learning is an iterative process.\n",
        "\n",
        "We will face choices about predictive variables to use, what types of models to use,what arguments to supply those models, etc. We make these choices in a data-driven way by measuring model quality of various alternatives.\n",
        "\n",
        "You've already learned to use train_test_split to split the data, so you can measure model quality on the test data. Cross-validation extends this approach to model scoring (or \"model validation.\") Compared to train_test_split, cross-validation gives you a more reliable measure of your model's quality, though it takes longer to run.\n",
        "\n",
        "# The Shortcoming of Train-Test Split\n",
        "Imagine  a dataset with 5000 rows. The train_test_split function has an argument for test_size that  can be used to decide how many rows go to the training set and how many go to the test set. The larger the test set, the more reliable our measures of model quality will be. At an extreme, we could imagine having only 1 row of data in the test set. If you compare alternative models, which one makes the best predictions on a single data point will be mostly a matter of luck.\n",
        "\n",
        "But we can only get a large test set by removing data from our training data, and smaller training datasets mean worse models. In fact, the ideal modeling decisions on a small dataset typically aren't the best modeling decisions on large datasets."
      ]
    },
    {
      "metadata": {
        "id": "Gie8zt7lj6wk",
        "colab_type": "text"
      },
      "cell_type": "markdown",
      "source": [
        "# The Cross-Validation Procedure\n",
        "In cross-validation, we run our modeling process on different subsets of the data to get multiple measures of model quality. For example, we could have 5 folds or experiments. We divide the data into 5 pieces, each being 20% of the full dataset.\n",
        "![alt text](https://i.stack.imgur.com/1fXzJ.png)\n",
        "We run an experiment called experiment 1 which uses the first fold as a holdout set, and everything else as training data. This gives us a measure of model quality based on a 20% holdout set, much as we got from using the simple train-test split.\n",
        "We then run a second experiment, where we hold out data from the second fold (using everything except the 2nd fold for training the model.) This gives us a second estimate of model quality. We repeat this process, using every fold once as the holdout. Putting this together, 100% of the data is used as a holdout at some point.\n",
        "\n",
        "Returning to our example above from train-test split, if we have 5000 rows of data, we end up with a measure of model quality based on 5000 rows of holdout (even if we don't use all 5000 rows simultaneously.\n",
        "\n",
        "# Trade-offs Between Cross-Validation and Train-Test Split\n",
        "Cross-validation gives a more accurate measure of model quality, which is especially important if you are making a lot of modeling decisions. However, it can take more time to run, because it estimates models once for each fold. So it is doing more total work.\n",
        "\n",
        "On small datasets, the extra computational burden of running cross-validation isn't a big deal.For the same reasons, a simple train-test split is sufficient for larger datasets.There's no simple threshold for what constitutes a large vs small dataset. Alternatively, we can run cross-validation and see if the scores for each experiment seem close. If each experiment gives the same results, train-test split is probably sufficient."
      ]
    },
    {
      "metadata": {
        "id": "ofex3oWDkuP7",
        "colab_type": "text"
      },
      "cell_type": "markdown",
      "source": [
        "**Cross-validation** example using Melbourne data"
      ]
    },
    {
      "metadata": {
        "id": "ez32gbobk2Qm",
        "colab_type": "code",
        "colab": {}
      },
      "cell_type": "code",
      "source": [
        "import pandas as pd\n",
        "data = pd.read_csv('melb_data.csv')\n",
        "cols_to_use = ['Rooms', 'Distance', 'Landsize', 'BuildingArea', 'YearBuilt']\n",
        "X = data[cols_to_use]\n",
        "y = data.Price"
      ],
      "execution_count": 0,
      "outputs": []
    },
    {
      "metadata": {
        "id": "Tb6LGkJclE4J",
        "colab_type": "text"
      },
      "cell_type": "markdown",
      "source": [
        "Then specify a pipeline of our modeling steps."
      ]
    },
    {
      "metadata": {
        "id": "N9Jiacn8lAAC",
        "colab_type": "code",
        "colab": {}
      },
      "cell_type": "code",
      "source": [
        "from sklearn.ensemble import RandomForestRegressor\n",
        "from sklearn.pipeline import make_pipeline\n",
        "from sklearn.preprocessing import Imputer\n",
        "my_pipeline = make_pipeline(Imputer(), RandomForestRegressor())"
      ],
      "execution_count": 0,
      "outputs": []
    },
    {
      "metadata": {
        "id": "OKZRyXh4lTfN",
        "colab_type": "text"
      },
      "cell_type": "markdown",
      "source": [
        "Finally get the cross-validation scores:"
      ]
    },
    {
      "metadata": {
        "id": "dCSjVOAmlU3f",
        "colab_type": "code",
        "colab": {
          "base_uri": "https://localhost:8080/",
          "height": 34
        },
        "outputId": "44c1286f-5957-4996-f352-2524646fd666"
      },
      "cell_type": "code",
      "source": [
        "from sklearn.model_selection import cross_val_score\n",
        "scores = cross_val_score(my_pipeline, X, y, scoring='neg_mean_absolute_error')\n",
        "print(scores)"
      ],
      "execution_count": 41,
      "outputs": [
        {
          "output_type": "stream",
          "text": [
            "[-310659.07801954 -301505.90598152 -298776.70800048]\n"
          ],
          "name": "stdout"
        }
      ]
    },
    {
      "metadata": {
        "id": "j_1yhbBLlsId",
        "colab_type": "text"
      },
      "cell_type": "markdown",
      "source": [
        "Scikit-learn has a convention where all metrics are defined so a high number is better. Using negatives here allows them to be consistent with that convention, though negative MAE is almost unheard of elsewhere.We typically want a single measure of model quality to compare between models. So we take the average across experiments."
      ]
    },
    {
      "metadata": {
        "id": "ZUC-dgT7l1tU",
        "colab_type": "code",
        "colab": {
          "base_uri": "https://localhost:8080/",
          "height": 34
        },
        "outputId": "fd59b863-9c5f-472c-b24c-d4ed55ffae4d"
      },
      "cell_type": "code",
      "source": [
        "print('Mean Absolute Error:', (-1 * scores.mean()))"
      ],
      "execution_count": 43,
      "outputs": [
        {
          "output_type": "stream",
          "text": [
            "Mean Absolute Error: 303647.23066717666\n"
          ],
          "name": "stdout"
        }
      ]
    },
    {
      "metadata": {
        "id": "5EAH4uu3mfJt",
        "colab_type": "text"
      },
      "cell_type": "markdown",
      "source": [
        "# Data Leakage\n",
        " Data leakage causes a model to look accurate until one starts making decisions with the model, and then the model becomes very inaccurate. \n",
        "\n",
        "There are two main types of leakage: **Leaky Predictors** and a **Leaky Validation Strategies**."
      ]
    },
    {
      "metadata": {
        "id": "IiJtbfcMm5kt",
        "colab_type": "text"
      },
      "cell_type": "markdown",
      "source": [
        "**Leaky Predictors**   \n",
        "This occurs when your predictors include data that will not be available at the time you make predictions.To prevent this type of data leakage, any variable updated (or created) after the target value is realized should be excluded. Because when we use this model to make new predictions, that data won't be available to the model."
      ]
    },
    {
      "metadata": {
        "id": "Lkjkql1tnFvB",
        "colab_type": "text"
      },
      "cell_type": "markdown",
      "source": [
        "**Leaky Validation Strategy**   \n",
        "A much different type of leak occurs when one is not careful distinguishing training data from validation data. For example, this happens if one runs preprocessing (like fitting the Imputer for missing values) before calling train_test_split. Validation is meant to be a measure of how the model does on data it hasn't considered before. "
      ]
    },
    {
      "metadata": {
        "id": "GU0qOx8Qn2Ox",
        "colab_type": "text"
      },
      "cell_type": "markdown",
      "source": [
        "# Example\n",
        "We will use a small dataset about credit card applications, and we will build a model predicting which applications were accepted (stored in a variable called card). Here is a look at the data:"
      ]
    },
    {
      "metadata": {
        "id": "PSRhgj0il8IZ",
        "colab_type": "code",
        "colab": {
          "resources": {
            "http://localhost:8080/nbextensions/google.colab/files.js": {
              "data": "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",
              "ok": true,
              "headers": [
                [
                  "content-type",
                  "application/javascript"
                ]
              ],
              "status": 200,
              "status_text": ""
            }
          },
          "base_uri": "https://localhost:8080/",
          "height": 72
        },
        "outputId": "87dc514f-f85c-4389-fce2-25730bf51676"
      },
      "cell_type": "code",
      "source": [
        "from google.colab import files\n",
        "uploaded = files.upload()"
      ],
      "execution_count": 44,
      "outputs": [
        {
          "output_type": "display_data",
          "data": {
            "text/html": [
              "\n",
              "     <input type=\"file\" id=\"files-feb4b758-ca2b-456b-b627-5ffe89e57705\" name=\"files[]\" multiple disabled />\n",
              "     <output id=\"result-feb4b758-ca2b-456b-b627-5ffe89e57705\">\n",
              "      Upload widget is only available when the cell has been executed in the\n",
              "      current browser session. Please rerun this cell to enable.\n",
              "      </output>\n",
              "      <script src=\"/nbextensions/google.colab/files.js\"></script> "
            ],
            "text/plain": [
              "<IPython.core.display.HTML object>"
            ]
          },
          "metadata": {
            "tags": []
          }
        },
        {
          "output_type": "stream",
          "text": [
            "Saving AER_credit_card_data.csv to AER_credit_card_data.csv\n"
          ],
          "name": "stdout"
        }
      ]
    },
    {
      "metadata": {
        "id": "yySBPjrToFGp",
        "colab_type": "code",
        "colab": {
          "base_uri": "https://localhost:8080/",
          "height": 238
        },
        "outputId": "096c74eb-5076-4d8d-dc29-0fd6bbd44aa3"
      },
      "cell_type": "code",
      "source": [
        "import pandas as pd\n",
        "\n",
        "data = pd.read_csv('AER_credit_card_data.csv', true_values = ['yes'],false_values = ['no'])\n",
        "print(data.head())"
      ],
      "execution_count": 45,
      "outputs": [
        {
          "output_type": "stream",
          "text": [
            "   card  reports       age  income     share  expenditure  owner  selfemp  \\\n",
            "0  True        0  37.66667  4.5200  0.033270   124.983300   True    False   \n",
            "1  True        0  33.25000  2.4200  0.005217     9.854167  False    False   \n",
            "2  True        0  33.66667  4.5000  0.004156    15.000000   True    False   \n",
            "3  True        0  30.50000  2.5400  0.065214   137.869200  False    False   \n",
            "4  True        0  32.16667  9.7867  0.067051   546.503300   True    False   \n",
            "\n",
            "   dependents  months  majorcards  active  \n",
            "0           3      54           1      12  \n",
            "1           3      34           1      13  \n",
            "2           4      58           1       5  \n",
            "3           0      25           1       7  \n",
            "4           2      64           1       5  \n"
          ],
          "name": "stdout"
        }
      ]
    },
    {
      "metadata": {
        "id": "6PZAExqpoRdX",
        "colab_type": "code",
        "colab": {
          "base_uri": "https://localhost:8080/",
          "height": 34
        },
        "outputId": "d1f3c230-13a5-45c6-a1f3-c921604b2b21"
      },
      "cell_type": "code",
      "source": [
        "from sklearn.pipeline import make_pipeline\n",
        "from sklearn.ensemble import RandomForestClassifier\n",
        "from sklearn.model_selection import cross_val_score\n",
        "\n",
        "y = data.card\n",
        "X = data.drop(['card'], axis=1)\n",
        "\n",
        "# Since there was no preprocessing, we didn't need a pipeline here. Used anyway as best practice\n",
        "modeling_pipeline = make_pipeline(RandomForestClassifier())\n",
        "cv_scores = cross_val_score(modeling_pipeline, X, y, scoring='accuracy')\n",
        "print(\"Cross-val accuracy:\", cv_scores.mean())"
      ],
      "execution_count": 48,
      "outputs": [
        {
          "output_type": "stream",
          "text": [
            "Cross-val accuracy: 0.9780130461793332\n"
          ],
          "name": "stdout"
        }
      ]
    },
    {
      "metadata": {
        "id": "HgUMEdkgonnN",
        "colab_type": "text"
      },
      "cell_type": "markdown",
      "source": [
        "It's very rare to find models that are accurate 98% of the time. It happens, but it's rare enough that we should inspect the data more closely to see if it is target leakage.  \n",
        "Here is a summary of the data, which you can also find under the data tab:\n",
        "\n",
        "**card:** Dummy variable, 1 if application for credit card accepted, 0 if not  \n",
        "**reports:** Number of major derogatory reports  \n",
        "**age:** Age n years plus twelfths of a year  \n",
        "**income**: Yearly income (divided by 10,000)  \n",
        "**share:** Ratio of monthly credit card expenditure to yearly income  \n",
        "**expenditure**: Average monthly credit card expenditure  \n",
        "**owner: **1 if owns their home, 0 if rent  \n",
        "**selfempl: **1 if self employed, 0 if not.  \n",
        "**dependents: **1 + number of dependents  \n",
        "**months:** Months living at current address  \n",
        "**majorcards:** Number of major credit cards held  \n",
        "**active: **Number of active credit accounts  \n",
        "A few variables look suspicious. For example, does expenditure mean expenditure on this card or on cards used before appying?\n",
        "\n",
        "At this point, basic data comparisons can be very helpful:"
      ]
    },
    {
      "metadata": {
        "id": "op77co2EpCtN",
        "colab_type": "code",
        "colab": {
          "base_uri": "https://localhost:8080/",
          "height": 51
        },
        "outputId": "d6c1272b-dc2a-46e7-aaf6-fbbf64ef84e1"
      },
      "cell_type": "code",
      "source": [
        "expenditures_cardholders = data.expenditure[data.card]\n",
        "expenditures_noncardholders = data.expenditure[~data.card]\n",
        "\n",
        "print('Fraction of those who received a card with no expenditures:',\\\n",
        "      ( expenditures_cardholders == 0).mean())\n",
        "print(\"Fraction of those who didn't receive a card with no expenditures:\", \\\n",
        "      (expenditures_noncardholders == 0).mean())"
      ],
      "execution_count": 52,
      "outputs": [
        {
          "output_type": "stream",
          "text": [
            "Fraction of those who received a card with no expenditures: 0.020527859237536656\n",
            "Fraction of those who didn't receive a card with no expenditures: 1.0\n"
          ],
          "name": "stdout"
        }
      ]
    },
    {
      "metadata": {
        "id": "HBN7ItUKqKLS",
        "colab_type": "text"
      },
      "cell_type": "markdown",
      "source": [
        "Since share is partially determined by expenditure, it should be excluded too. The variables active, majorcards are a little less clear, but from the description, they sound concerning. In most situations, it's better to be safe than sorry if you can't track down the people who created the data to find out more.\n",
        "\n",
        "We would run a model without leakage as follows:"
      ]
    },
    {
      "metadata": {
        "id": "Aucup03DpdGV",
        "colab_type": "code",
        "colab": {
          "base_uri": "https://localhost:8080/",
          "height": 34
        },
        "outputId": "28576622-2d75-46ce-b558-e3ea913c8ff7"
      },
      "cell_type": "code",
      "source": [
        "potential_leaks = ['expenditure', 'share', 'active', 'majorcards']\n",
        "X2 = X.drop(potential_leaks, axis=1)\n",
        "cv_scores = cross_val_score(modeling_pipeline, X2, y, scoring='accuracy')\n",
        "print(\"Cross-val accuracy: %f\" %cv_scores.mean())"
      ],
      "execution_count": 53,
      "outputs": [
        {
          "output_type": "stream",
          "text": [
            "Cross-val accuracy: 0.818042\n"
          ],
          "name": "stdout"
        }
      ]
    },
    {
      "metadata": {
        "id": "dvc_bMOeqSLK",
        "colab_type": "text"
      },
      "cell_type": "markdown",
      "source": [
        "This accuracy is quite a bit lower, which on the one hand is disappointing. However, we can expect it to be right about 80% of the time when used on new applications, whereas the leaky model would likely do much worse then that (even in spite of it's higher apparent score in cross-validation.)."
      ]
    }
  ]
}